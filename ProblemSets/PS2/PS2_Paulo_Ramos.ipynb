{
 "cells": [
  {
   "cell_type": "markdown",
   "metadata": {},
   "source": [
    "Problem set 2"
   ]
  },
  {
   "cell_type": "code",
   "execution_count": 309,
   "metadata": {},
   "outputs": [],
   "source": [
    "# Import the necessary libraries\n",
    "import numpy as np\n",
    "import scipy as sci\n",
    "import scipy.optimize as opt\n",
    "import scipy.stats as stats\n",
    "import pandas as pd\n",
    "import scipy.integrate as integrate\n",
    "import matplotlib.pyplot as plt"
   ]
  },
  {
   "cell_type": "markdown",
   "metadata": {},
   "source": [
    "Question 1\n",
    "\n",
    "a)\n",
    "\n",
    "Below we just load the data as a numpy array."
   ]
  },
  {
   "cell_type": "code",
   "execution_count": 310,
   "metadata": {},
   "outputs": [],
   "source": [
    "q1_data = np.loadtxt('clms.txt')"
   ]
  },
  {
   "cell_type": "markdown",
   "metadata": {},
   "source": [
    "Below we show the statistics asked."
   ]
  },
  {
   "cell_type": "code",
   "execution_count": 311,
   "metadata": {},
   "outputs": [
    {
     "name": "stdout",
     "output_type": "stream",
     "text": [
      "The mean is:  720.2779753272437\n",
      "The median is:  172.21\n",
      "The standard deviation is:  3972.663756393663\n",
      "The minimum is:  0.01\n",
      "The maximum is:  227967.25\n"
     ]
    }
   ],
   "source": [
    "print('The mean is: ',np.mean(q1_data))\n",
    "print('The median is: ',np.median(q1_data))\n",
    "print('The standard deviation is: ',np.std(q1_data))\n",
    "print('The minimum is: ',np.min(q1_data))\n",
    "print('The maximum is: ',np.max(q1_data))"
   ]
  },
  {
   "cell_type": "markdown",
   "metadata": {},
   "source": [
    "Below we first show the histogram containing all the data and using the same weights for all observations (that is, 1 over the number of observations). As we can see, because the data is pretty much concentrated on the left end (higher values are very unlikely), this plot is not very informative."
   ]
  },
  {
   "cell_type": "code",
   "execution_count": 312,
   "metadata": {},
   "outputs": [
    {
     "name": "stdout",
     "output_type": "stream",
     "text": [
      "We can that the heights in the histogram sum to  1.0000000000000322\n"
     ]
    },
    {
     "data": {
      "image/png": "[encoded data removed]",
      "text/plain": [
       "<Figure size 432x288 with 1 Axes>"
      ]
     },
     "metadata": {
      "needs_background": "light"
     },
     "output_type": "display_data"
    }
   ],
   "source": [
    "num_bins = 1000\n",
    "weights = (1/q1_data.shape[0])*np.ones_like(q1_data)\n",
    "count, bins, ignored = plt.hist(q1_data, num_bins, weights=weights,\n",
    "                                edgecolor='k')\n",
    "plt.title('Monthly Health Expenditures', fontsize=20)\n",
    "plt.xlabel(r'Monthly health expenditures')\n",
    "plt.ylabel(r'Percent')\n",
    "plt.xlim([0, 230000])  # This gives the xmin and xmax to be plotted\"\n",
    "plt.ylim([0,0.075])\n",
    "\n",
    "print('We can that the heights in the histogram sum to ',count.sum())"
   ]
  },
  {
   "cell_type": "markdown",
   "metadata": {},
   "source": [
    "Below we plot the second histogram asked for. Here we filter the data, to plot the histogram only for the portion where expenditures are below \\$ 800,00, but keep the original weights - which result in the sum of the heights being smaller than one. But, as we can see, it is higher than 0.80, since most of the data is in this range. This results in a histogram that contains information much easier to analyze, making it easier to understand the distribution of expenditures in the range where they happen more often. That is why we would prefer this one. "
   ]
  },
  {
   "cell_type": "code",
   "execution_count": 317,
   "metadata": {},
   "outputs": [
    {
     "name": "stdout",
     "output_type": "stream",
     "text": [
      "We can that the heights in the histogram sum to  0.8494208494208465\n"
     ]
    },
    {
     "data": {
      "image/png": "[encoded data removed]",
      "text/plain": [
       "<Figure size 432x288 with 1 Axes>"
      ]
     },
     "metadata": {
      "needs_background": "light"
     },
     "output_type": "display_data"
    }
   ],
   "source": [
    "num_bins = 100\n",
    "weights = (1/q1_data.shape[0])*np.ones_like(q1_data[(q1_data<=800)])\n",
    "count, bins, ignored = plt.hist(q1_data[(q1_data<=800)], num_bins, weights=weights,\n",
    "                                edgecolor='k')\n",
    "plt.title('Monthly health expenditures', fontsize=20)\n",
    "plt.xlabel(r'Total points')\n",
    "plt.ylabel(r'Percent')\n",
    "plt.xlim([0, 800])  # This gives the xmin and xmax to be plotted\"\n",
    "\n",
    "print('We can that the heights in the histogram sum to ',count.sum())"
   ]
  },
  {
   "cell_type": "markdown",
   "metadata": {},
   "source": [
    "b)"
   ]
  },
  {
   "cell_type": "markdown",
   "metadata": {},
   "source": [
    "Below I create the criterion function that will be minimized by the optimizer to find the MLE estimates. It takes the mean of the values obtained by passing the data vector and the parameter values as arguments to the built-in log-pdf function of the gamma distribution; and then returns the negative of this mean (since we want to maximize the log-likelihood, but will use a minimizer.\n",
    "\n",
    "Also, I am passing as arguments the exponential of the trial parameters, to enforce that these parameters be positive, as required by the Gamma distribution."
   ]
  },
  {
   "cell_type": "code",
   "execution_count": 314,
   "metadata": {},
   "outputs": [],
   "source": [
    "def crit_b(params,data):\n",
    "    alpha, beta = np.exp(params)\n",
    "    log_lik_val = stats.gamma.logpdf(x=data,a=alpha,scale=beta)\n",
    "    \n",
    "    neg_log_lik_val = -np.mean(log_lik_val)\n",
    "    \n",
    "    return neg_log_lik_val"
   ]
  },
  {
   "cell_type": "code",
   "execution_count": 315,
   "metadata": {},
   "outputs": [
    {
     "name": "stdout",
     "output_type": "stream",
     "text": [
      "alpha_MLE= 0.47251816997014623  beta_MLE= 1524.3783595230886\n",
      "Maximized Likelihood is  -7.319283682746835\n"
     ]
    }
   ],
   "source": [
    "beta_init = np.log(((np.std(q1_data))**2)/np.mean(q1_data))\n",
    "alpha_init = np.log(np.mean(q1_data)/beta_init)\n",
    "params_init = np.array([alpha_init, beta_init])\n",
    "\n",
    "results_uncstr_b = opt.minimize(crit_b, params_init, args=q1_data, method='Nelder-Mead')\n",
    "alpha_MLE, beta_MLE = np.exp(results_uncstr_b.x)\n",
    "print('alpha_MLE=', alpha_MLE, ' beta_MLE=', beta_MLE)\n",
    "lik_b = -crit_b(np.log([alpha_MLE,beta_MLE]),q1_data)\n",
    "print('Maximized Likelihood is ',lik_b)"
   ]
  },
  {
   "cell_type": "markdown",
   "metadata": {},
   "source": [
    "We can see above the values of the parameters obtained and the value of the maximized likelihood. Below we show that the optimization was successful."
   ]
  },
  {
   "cell_type": "code",
   "execution_count": 316,
   "metadata": {},
   "outputs": [
    {
     "data": {
      "text/plain": [
       " final_simplex: (array([[-0.74967908,  7.32934197],\n",
       "       [-0.74964998,  7.32926202],\n",
       "       [-0.7497509 ,  7.32932038]]), array([7.31928368, 7.31928368, 7.31928369]))\n",
       "           fun: 7.319283682746835\n",
       "       message: 'Optimization terminated successfully.'\n",
       "          nfev: 92\n",
       "           nit: 49\n",
       "        status: 0\n",
       "       success: True\n",
       "             x: array([-0.74967908,  7.32934197])"
      ]
     },
     "execution_count": 316,
     "metadata": {},
     "output_type": "execute_result"
    }
   ],
   "source": [
    "results_uncstr_b"
   ]
  },
  {
   "cell_type": "markdown",
   "metadata": {},
   "source": [
    "Now we plot the density function on top of the second histogram of letter (a) above and can see that the fit was not so good. This might be related to the long upper tail the data has, which the gamma distribution has difficult fitting without making the fit for the regions of lower expenditures worse."
   ]
  },
  {
   "cell_type": "code",
   "execution_count": 325,
   "metadata": {},
   "outputs": [
    {
     "data": {
      "text/plain": [
       "[<matplotlib.lines.Line2D at 0x18fce1498d0>]"
      ]
     },
     "execution_count": 325,
     "metadata": {},
     "output_type": "execute_result"
    },
    {
     "data": {
      "image/png": "[encoded data removed]",
      "text/plain": [
       "<Figure size 432x288 with 1 Axes>"
      ]
     },
     "metadata": {
      "needs_background": "light"
     },
     "output_type": "display_data"
    }
   ],
   "source": [
    "# Plot histogram\n",
    "def likelihood_b(data,params):\n",
    "    alpha, beta = params    \n",
    "    lik_val = stats.gamma.pdf(x=data,a=alpha,scale=beta)    \n",
    "    return lik_val\n",
    "\n",
    "num_bins = 100\n",
    "weights = (1/q1_data.shape[0])*np.ones_like(q1_data[(q1_data<=800)])\n",
    "count, bins, ignored = plt.hist(q1_data[(q1_data<=800)], num_bins, weights=weights,\n",
    "                                edgecolor='k')\n",
    "plt.title('Monthly Health Expenditures', fontsize=20)\n",
    "plt.xlabel(r'Monthly health expenditures')\n",
    "plt.ylabel(r'Percent')\n",
    "plt.xlim([0, 800])  # This gives the xmin and xmax to be plotted\"\n",
    "plt.ylim([0,0.05])\n",
    "\n",
    "# Plot smooth line with distribution 1\n",
    "dist_pts = np.linspace(0.01, 800, 700)\n",
    "alpha = alpha_MLE\n",
    "beta = beta_MLE\n",
    "plt.plot(dist_pts, likelihood_b(dist_pts,[alpha,beta]),\n",
    "         linewidth=2, color='r')"
   ]
  },
  {
   "cell_type": "markdown",
   "metadata": {},
   "source": [
    "c)\n",
    "\n",
    "Below we repeat a similar procedure as in (b), but now I constructed the pdf for generalized gamma instead of using a built-in function. We also use the values for $\\alpha$ and $\\beta$ obtained in (b) as initial values, as suggested in the question."
   ]
  },
  {
   "cell_type": "code",
   "execution_count": 326,
   "metadata": {},
   "outputs": [],
   "source": [
    "def crit_c(params,data):\n",
    "    alpha, beta, m = np.exp(params)\n",
    "    log_lik_val = np.log(m)-alpha*np.log(beta)-sci.special.gamma(alpha/m)+\\\n",
    "        (alpha-1)*np.mean(np.log(data))-(np.mean((data/beta)**m))\n",
    "    neg_log_lik_val = -log_lik_val    \n",
    "    return neg_log_lik_val"
   ]
  },
  {
   "cell_type": "code",
   "execution_count": 327,
   "metadata": {},
   "outputs": [
    {
     "name": "stdout",
     "output_type": "stream",
     "text": [
      "alpha_MLE= 0.9218102764523466  beta_MLE= 55.6981272949772  m_MLE= 0.4352414103380778\n",
      "Maximized Likelihood is  -8.119576738999763\n"
     ]
    }
   ],
   "source": [
    "beta_init = np.log(beta_MLE)\n",
    "alpha_init = np.log(alpha_MLE)\n",
    "m_init = np.log(1)\n",
    "params_init = np.array([alpha_init, beta_init, m_init])\n",
    "\n",
    "results_uncstr_c = opt.minimize(crit_c, (params_init), args=q1_data, method='Nelder-Mead')#,\n",
    "                            #bounds=((1e-10, None), (1e-10, None),(None, None)))\n",
    "alpha_MLE_2, beta_MLE_2, m_MLE_2 = np.exp(results_uncstr_c.x)\n",
    "print('alpha_MLE=', alpha_MLE_2, ' beta_MLE=', beta_MLE_2, ' m_MLE=', m_MLE_2)\n",
    "lik_c = -crit_c(np.log([alpha_MLE_2,beta_MLE_2,m_MLE_2]),q1_data)\n",
    "print('Maximized Likelihood is ',lik_c)"
   ]
  },
  {
   "cell_type": "markdown",
   "metadata": {},
   "source": [
    "The results and maximized likelihood value are displayed above. We can see that, after adding a parameter, the results for $\\alpha$ and $\\beta$ changed a lot, and the optimization was sucessful; however, we got a smaller maximized likelihood, wihich suggest that our estimates are not very good. In fact we see below the fit of histogram was not improved very much - in fact it appears to be a little worse."
   ]
  },
  {
   "cell_type": "code",
   "execution_count": 328,
   "metadata": {},
   "outputs": [
    {
     "data": {
      "text/plain": [
       " final_simplex: (array([[-0.08141585,  4.01994653, -0.83185444],\n",
       "       [-0.08143261,  4.01985291, -0.83188419],\n",
       "       [-0.08144547,  4.01992791, -0.83187143],\n",
       "       [-0.08144006,  4.01988824, -0.83188916]]), array([8.11957674, 8.11957674, 8.11957674, 8.11957674]))\n",
       "           fun: 8.119576738999763\n",
       "       message: 'Optimization terminated successfully.'\n",
       "          nfev: 218\n",
       "           nit: 126\n",
       "        status: 0\n",
       "       success: True\n",
       "             x: array([-0.08141585,  4.01994653, -0.83185444])"
      ]
     },
     "execution_count": 328,
     "metadata": {},
     "output_type": "execute_result"
    }
   ],
   "source": [
    "results_uncstr_c"
   ]
  },
  {
   "cell_type": "code",
   "execution_count": 330,
   "metadata": {},
   "outputs": [
    {
     "data": {
      "text/plain": [
       "[<matplotlib.lines.Line2D at 0x18fce000da0>]"
      ]
     },
     "execution_count": 330,
     "metadata": {},
     "output_type": "execute_result"
    },
    {
     "data": {
      "image/png": "[encoded data removed]",
      "text/plain": [
       "<Figure size 432x288 with 1 Axes>"
      ]
     },
     "metadata": {
      "needs_background": "light"
     },
     "output_type": "display_data"
    }
   ],
   "source": [
    "# Plot histogram\n",
    "def likelihood_c(data,params):\n",
    "    alpha, beta, m = params    \n",
    "    log_lik_val = np.log(m)-alpha*np.log(beta)-sci.special.gamma(alpha/m)+\\\n",
    "        (alpha-1)*(np.log(data))-(((data/beta)**m))\n",
    "    return np.exp(log_lik_val)\n",
    "\n",
    "num_bins = 100\n",
    "weights = (1/q1_data.shape[0])*np.ones_like(q1_data[(q1_data<=800)])\n",
    "count, bins, ignored = plt.hist(q1_data[(q1_data<=800)], num_bins, weights=weights,\n",
    "                                edgecolor='k')\n",
    "plt.title('Monthly Health Expenditures', fontsize=20)\n",
    "plt.xlabel(r'Monthly Health Expenditures')\n",
    "plt.ylabel(r'Percent')\n",
    "plt.xlim([0, 800])  # This gives the xmin and xmax to be plotted\"\n",
    "plt.ylim([0,0.05])\n",
    "\n",
    "# Plot smooth line with distribution 1\n",
    "dist_pts = np.linspace(0.01, 800, 700)\n",
    "alpha = alpha_MLE_2\n",
    "beta = beta_MLE_2\n",
    "m = m_MLE_2\n",
    "\n",
    "plt.plot(dist_pts, likelihood_c(dist_pts,[alpha,beta,m]),\n",
    "         linewidth=2, color='r')"
   ]
  },
  {
   "cell_type": "markdown",
   "metadata": {},
   "source": [
    "d)\n",
    "\n",
    "Lastly, the procedure below is repeated using the generalized beta of type 2 function to check if we can obtain better results by adding one more parameter."
   ]
  },
  {
   "cell_type": "code",
   "execution_count": 331,
   "metadata": {},
   "outputs": [],
   "source": [
    "def crit_d(params,data):\n",
    "    a, b, p, q = np.exp(params)\n",
    "    log_lik_val = np.log(a)+(a*p-1)*np.mean(np.log(data))-(a*p)*np.log(b)-np.log(sci.special.beta(p,q))-\\\n",
    "        (p+q)*np.mean(np.log(1+(data/b)**a))\n",
    "    \n",
    "    neg_log_lik_val = -log_lik_val\n",
    "    \n",
    "    return neg_log_lik_val"
   ]
  },
  {
   "cell_type": "code",
   "execution_count": 332,
   "metadata": {},
   "outputs": [
    {
     "name": "stdout",
     "output_type": "stream",
     "text": [
      "a_MLE= 1.2713799358549833  b_MLE= 143.233105938334  p_MLE= 1.0298808720411083  q_MLE= 0.8485167880364842\n",
      "Maximized Likelihood is  -7.035429576117128\n"
     ]
    }
   ],
   "source": [
    "b_init = np.log((q**(1/m_MLE_2))*beta_MLE_2)\n",
    "a_init = np.log(m_MLE_2)\n",
    "p_init = np.log(alpha_MLE_2/m_MLE_2)\n",
    "q_init = np.log(10000)\n",
    "params_init = np.array([a_init, b_init, p_init, q_init])\n",
    "\n",
    "results_uncstr_d = opt.minimize(crit_d, params_init, args=q1_data, method='Nelder-Mead')#, method='L-BFGS-B',\n",
    "                            #bounds=((1e-10, None), (1e-10, None),(1e-10, None), (1e-10, None)))\n",
    "a_MLE_3, b_MLE_3, p_MLE_3, q_MLE_3 = np.exp(results_uncstr_d.x)\n",
    "print('a_MLE=', a_MLE_3, ' b_MLE=', b_MLE_3, ' p_MLE=', p_MLE_3, ' q_MLE=', q_MLE_3)\n",
    "lik_d = -crit_d(np.log([a_MLE_3,b_MLE_3,p_MLE_3,q_MLE_3]),q1_data)\n",
    "print('Maximized Likelihood is ',lik_d)"
   ]
  },
  {
   "cell_type": "markdown",
   "metadata": {},
   "source": [
    "We can see the results above, and below that optimization was sucessful. Also, in the plot below we see that the GB2 does a much better job in fitting the histogram, suggesting that this time we were actually able to get a reasonable optimization result."
   ]
  },
  {
   "cell_type": "code",
   "execution_count": 333,
   "metadata": {},
   "outputs": [
    {
     "data": {
      "text/plain": [
       " final_simplex: (array([[ 0.24010287,  4.96447341,  0.02944314, -0.16426541],\n",
       "       [ 0.24014753,  4.96448753,  0.02937274, -0.16432463],\n",
       "       [ 0.24011051,  4.96443251,  0.0294471 , -0.16428993],\n",
       "       [ 0.24005649,  4.96442221,  0.02951452, -0.16422298],\n",
       "       [ 0.24009606,  4.96447053,  0.02945608, -0.16424785]]), array([7.03542958, 7.03542958, 7.03542958, 7.03542958, 7.03542958]))\n",
       "           fun: 7.035429576117128\n",
       "       message: 'Optimization terminated successfully.'\n",
       "          nfev: 615\n",
       "           nit: 365\n",
       "        status: 0\n",
       "       success: True\n",
       "             x: array([ 0.24010287,  4.96447341,  0.02944314, -0.16426541])"
      ]
     },
     "execution_count": 333,
     "metadata": {},
     "output_type": "execute_result"
    }
   ],
   "source": [
    "results_uncstr_d"
   ]
  },
  {
   "cell_type": "code",
   "execution_count": 335,
   "metadata": {},
   "outputs": [
    {
     "data": {
      "text/plain": [
       "[<matplotlib.lines.Line2D at 0x18fcdb77978>]"
      ]
     },
     "execution_count": 335,
     "metadata": {},
     "output_type": "execute_result"
    },
    {
     "data": {
      "image/png": "[encoded data removed]",
      "text/plain": [
       "<Figure size 432x288 with 1 Axes>"
      ]
     },
     "metadata": {
      "needs_background": "light"
     },
     "output_type": "display_data"
    }
   ],
   "source": [
    "# Plot histogram\n",
    "def likelihood_d(data,params):\n",
    "    a, b, p, q = params\n",
    "    log_lik_val = np.log(a)+(a*p-1)*(np.log(data))-(a*p)*np.log(b)-np.log(sci.special.beta(p,q))-\\\n",
    "        (p+q)*(np.log(1+(data/b)**a))    \n",
    "    lik_val = np.exp(log_lik_val)    \n",
    "    return lik_val\n",
    "\n",
    "num_bins = 100\n",
    "weights = (1/q1_data.shape[0])*np.ones_like(q1_data[(q1_data<=800)])\n",
    "count, bins, ignored = plt.hist(q1_data[(q1_data<=800)], num_bins, weights=weights,\n",
    "                                edgecolor='k')\n",
    "plt.title('Monthly Health Expenditures', fontsize=20)\n",
    "plt.xlabel(r'Monthly Health Expenditures')\n",
    "plt.ylabel(r'Percent')\n",
    "plt.xlim([0, 800])  # This gives the xmin and xmax to be plotted\"\n",
    "plt.ylim([0, 0.05])\n",
    "\n",
    "\n",
    "# Plot smooth line with distribution 1\n",
    "dist_pts = np.linspace(0.01, 800, 700)\n",
    "a = a_MLE_3\n",
    "b = b_MLE_3\n",
    "p = p_MLE_3\n",
    "q = q_MLE_3\n",
    "plt.plot(dist_pts, likelihood_d(dist_pts,[a,b,p,q]),\n",
    "         linewidth=2, color='r')"
   ]
  },
  {
   "cell_type": "markdown",
   "metadata": {},
   "source": [
    "e)\n",
    "\n",
    "Below we show the test statistics for the likelihood ratio test statistics. As we can see, specially for the Gama distribution, the value is not quite high. In fact, the probabilities of getting the data we got under the null of the data being distributed either as Gamma or GG are still quite high."
   ]
  },
  {
   "cell_type": "code",
   "execution_count": 336,
   "metadata": {},
   "outputs": [
    {
     "name": "stdout",
     "output_type": "stream",
     "text": [
      "The test statistic for testing the Gamma is  0.5677082132594133\n",
      "The p-value for this test statistic is  0.9665835559862632\n",
      "The test statistic for testing the GG is  2.1682943257652703\n",
      "The p-value for this test statistic is  0.7048379040793376\n"
     ]
    }
   ],
   "source": [
    "#Gamma against GB2\n",
    "test_stat_1 = 2*(lik_d-lik_b)\n",
    "pvalue1 = 1-stats.chi2.cdf(x=test_stat_1,df=4)\n",
    "#GG against GB2\n",
    "test_stat_2 = 2*(lik_d-lik_c)\n",
    "pvalue2 = 1-stats.chi2.cdf(x=test_stat_2,df=4)\n",
    "\n",
    "print('The test statistic for testing the Gamma is ',test_stat_1)\n",
    "print('The p-value for this test statistic is ',pvalue1)\n",
    "print('The test statistic for testing the GG is ',test_stat_2)\n",
    "print('The p-value for this test statistic is ',pvalue2)"
   ]
  },
  {
   "cell_type": "markdown",
   "metadata": {},
   "source": [
    "f)\n",
    "\n",
    "Below we show the probabilities of getting 1,000 in mothly expenditures. As we can see, they are not high, as expected, and smaller in the GB2, which had the best fit."
   ]
  },
  {
   "cell_type": "code",
   "execution_count": 337,
   "metadata": {},
   "outputs": [
    {
     "name": "stdout",
     "output_type": "stream",
     "text": [
      "With GB2, the probability is  0.11766272901082031\n",
      "With Gamma, the probability is  0.2367836133328448\n"
     ]
    }
   ],
   "source": [
    "#f\n",
    "prob1, ignore = integrate.quad(lambda x: likelihood_d(data=x,params=np.array([a_MLE_3,b_MLE_3,p_MLE_3,q_MLE_3])), 0, 1000)\n",
    "prob1 = 1-prob1\n",
    "#sci.stats.betaprime.cdf(1000,a=m_MLE_3,b=q_MLE_3,loc=alpha_MLE_3,scale=beta_MLE_3)\n",
    "print('With GB2, the probability is ',prob1)\n",
    "\n",
    "prob2 = 1-sci.stats.gamma.cdf(1000,a=alpha_MLE,scale=beta_MLE)\n",
    "print('With Gamma, the probability is ',prob2)"
   ]
  },
  {
   "cell_type": "markdown",
   "metadata": {},
   "source": [
    "Question 2\n",
    "\n",
    "a)\n",
    "\n",
    "Below we load the data as a panda data frame and: first construct a function to back the value of $z$ from the expression (3) and then construct the criterion function using the log-likelihood of the normal with meand and variance indicated in the question (using a lagged version of $z$ in the mean). "
   ]
  },
  {
   "cell_type": "code",
   "execution_count": 281,
   "metadata": {},
   "outputs": [],
   "source": [
    "q2_data = pd.read_csv('MacroSeries.txt', sep=\",\", header=None, names=[\"c\",\"k\",\"w\",\"r\"])"
   ]
  },
  {
   "cell_type": "code",
   "execution_count": 286,
   "metadata": {},
   "outputs": [],
   "source": [
    "#Back z\n",
    "def back_z_a(w,k,alpha):\n",
    "    z = np.log(w/(((k)**alpha)*(1-alpha)))\n",
    "    return z\n",
    " #Criterion function\n",
    "def crit_2a(params,q2_data):\n",
    "    alpha, rho, mu, sigma = params\n",
    "    z = back_z_a(q2_data['w'],q2_data['k'],alpha)\n",
    "    z_lag = z.shift(1)\n",
    "    z_lag[0] = mu\n",
    "    \n",
    "    log_lik_val = - np.log(sigma) - 0.5*np.log(2 * np.pi) - (z - (rho*z_lag+(1-rho)*mu))**2 / (2 * sigma**2)\n",
    "    \n",
    "    return -np.sum(log_lik_val) \n"
   ]
  },
  {
   "cell_type": "markdown",
   "metadata": {},
   "source": [
    "Below we use the same optimization routine used in question 1, but we provide bounds on the parameters as the theoretical model requires. The parameters, maximized log-likelihood and Hessian inverse are reported below."
   ]
  },
  {
   "cell_type": "code",
   "execution_count": 338,
   "metadata": {},
   "outputs": [
    {
     "name": "stdout",
     "output_type": "stream",
     "text": [
      "alpha_MLE= 0.7020762346781008  rho_MLE= 0.4797945639029124  mu_MLE= 6.254267597401163  sigma_MLE= 0.09204384952154539\n",
      "Maximized Likelihood is  96.65373751953192\n",
      "The Variance-Covariance matrix of the estimates is\n",
      "  [[ 5.02649788e+01 -8.81259612e+01 -6.26154326e+02 -2.64157591e+00]\n",
      " [-8.81259612e+01  1.86849999e+02  1.09829408e+03  3.90806918e+00]\n",
      " [-6.26154326e+02  1.09829408e+03  7.80005598e+03  3.28950439e+01]\n",
      " [-2.64157591e+00  3.90806918e+00  3.28950439e+01  1.55257433e-01]]\n"
     ]
    }
   ],
   "source": [
    "alpha_init = 0.5\n",
    "rho_init = 0.5\n",
    "mu_init = 0.5\n",
    "sigma_init = 1\n",
    "params_init = np.array([alpha_init, rho_init, mu_init, sigma_init])\n",
    "\n",
    "results_uncstr = opt.minimize(crit_2a, params_init, args=q2_data, method='L-BFGS-B',\n",
    "                            bounds=((1e-10, 0.999), (-0.999, 0.999),(1e-10, None), (1e-10, None)))\n",
    "alpha_MLE_1, rho_MLE_1, mu_MLE_1, sigma_MLE_1 = results_uncstr.x\n",
    "print('alpha_MLE=', alpha_MLE_1, ' rho_MLE=', rho_MLE_1, ' mu_MLE=', mu_MLE_1, ' sigma_MLE=', sigma_MLE_1)\n",
    "lik_2 = -crit_2a([alpha_MLE_1,rho_MLE_1,mu_MLE_1,sigma_MLE_1],q2_data)\n",
    "print('Maximized Likelihood is ',lik_2)\n",
    "hess_inv = results_uncstr.hess_inv.todense()\n",
    "print('The Variance-Covariance matrix of the estimates is\\n ', hess_inv)"
   ]
  },
  {
   "cell_type": "code",
   "execution_count": 298,
   "metadata": {},
   "outputs": [
    {
     "data": {
      "text/plain": [
       "      fun: -96.65373751953192\n",
       " hess_inv: <4x4 LbfgsInvHessProduct with dtype=float64>\n",
       "      jac: array([-0.02568896, -0.00262617, -0.00189146, -0.03091145])\n",
       "  message: b'CONVERGENCE: REL_REDUCTION_OF_F_<=_FACTR*EPSMCH'\n",
       "     nfev: 430\n",
       "      nit: 61\n",
       "   status: 0\n",
       "  success: True\n",
       "        x: array([0.70207623, 0.47979456, 6.2542676 , 0.09204385])"
      ]
     },
     "execution_count": 298,
     "metadata": {},
     "output_type": "execute_result"
    }
   ],
   "source": [
    "results_uncstr"
   ]
  },
  {
   "cell_type": "markdown",
   "metadata": {},
   "source": [
    "b)\n",
    "\n",
    "Below we do a similar routine to obtain the estimates, but now using equation (4) to back the value of $z$. AS we can see, the results are very similar to letter (a)."
   ]
  },
  {
   "cell_type": "code",
   "execution_count": 299,
   "metadata": {},
   "outputs": [],
   "source": [
    "#Back z\n",
    "def back_z_b(r,k,alpha):\n",
    "    z = np.log(r/(((k)**(alpha-1))*(alpha)))\n",
    "    return z\n",
    "\n",
    "#Criterion function\n",
    "def crit_2b(params,q2_data):\n",
    "    alpha, rho, mu, sigma = params\n",
    "    z = back_z_b(q2_data['r'],q2_data['k'],alpha)\n",
    "    z_lag = z.shift(1)\n",
    "    z_lag[0] = mu\n",
    "    \n",
    "    log_lik_val = - np.log(sigma) - 0.5*np.log(2 * np.pi) - (z - (rho*z_lag+(1-rho)*mu))**2 / (2 * sigma**2)\n",
    "    \n",
    "    return -np.sum(log_lik_val)"
   ]
  },
  {
   "cell_type": "code",
   "execution_count": 300,
   "metadata": {},
   "outputs": [
    {
     "name": "stdout",
     "output_type": "stream",
     "text": [
      "alpha_MLE= 0.7019176556770528  rho_MLE= 0.4800006312381103  mu_MLE= 5.0770232069079535  sigma_MLE= 0.09204513813178028\n",
      "Maximized Likelihood is  96.65373709470562\n",
      "The Variance-Covariance matrix of the estimates is\n",
      "  [[ 6.44321844e+01 -7.14736819e+01 -1.10137514e+03  2.52650242e-02]\n",
      " [-7.14736819e+01  7.96050257e+01  1.22175446e+03 -1.52711623e-02]\n",
      " [-1.10137514e+03  1.22175446e+03  1.88264187e+04 -4.31304057e-01]\n",
      " [ 2.52650242e-02 -1.52711623e-02 -4.31304057e-01  5.71599346e-04]]\n"
     ]
    }
   ],
   "source": [
    "#b\n",
    "alpha_init = alpha_MLE_1\n",
    "rho_init = rho_MLE_1\n",
    "mu_init = mu_MLE_1\n",
    "sigma_init = sigma_MLE_1\n",
    "params_init = np.array([alpha_init, rho_init, mu_init, sigma_init])\n",
    "\n",
    "results_uncstr = opt.minimize(crit_2b, params_init, args=q2_data, method='L-BFGS-B',\n",
    "                            bounds=((1e-10, 0.999), (-0.999, 0.999),(1e-10, None), (1e-10, None)))\n",
    "alpha_MLE_2, rho_MLE_2, mu_MLE_2, sigma_MLE_2 = results_uncstr.x\n",
    "print('alpha_MLE=', alpha_MLE_2, ' rho_MLE=', rho_MLE_2, ' mu_MLE=', mu_MLE_2, ' sigma_MLE=', sigma_MLE_2)\n",
    "lik_2 = -crit_2b([alpha_MLE_2,rho_MLE_2,mu_MLE_2,sigma_MLE_2],q2_data)\n",
    "print('Maximized Likelihood is ',lik_2)\n",
    "hess_inv = results_uncstr.hess_inv.todense()\n",
    "print('The Variance-Covariance matrix of the estimates is\\n ', hess_inv)"
   ]
  },
  {
   "cell_type": "code",
   "execution_count": 301,
   "metadata": {},
   "outputs": [
    {
     "data": {
      "text/plain": [
       "      fun: -96.65373709470562\n",
       " hess_inv: <4x4 LbfgsInvHessProduct with dtype=float64>\n",
       "      jac: array([ 1.34150469e-03,  8.66862138e-05,  6.53699317e-05, -5.03064257e-04])\n",
       "  message: b'CONVERGENCE: REL_REDUCTION_OF_F_<=_FACTR*EPSMCH'\n",
       "     nfev: 285\n",
       "      nit: 37\n",
       "   status: 0\n",
       "  success: True\n",
       "        x: array([0.70191766, 0.48000063, 5.07702321, 0.09204514])"
      ]
     },
     "execution_count": 301,
     "metadata": {},
     "output_type": "execute_result"
    }
   ],
   "source": [
    "results_uncstr"
   ]
  },
  {
   "cell_type": "markdown",
   "metadata": {},
   "source": [
    "c)\n",
    "\n",
    "Below we follow procedure suggested in the question to get the probability of the interest rate being higher than 1 this period. We can do that by backing the $z$ corresponding to $r=1$ and $k=7,500,000$ and then evaluating the probability of a higher $z$ occuring, because $r$ is monotonically increasing in $z$. We obtain a probability of 1 however, which is not suprising given that the estimates we obtain above (mainly the high $\\mu$ and very low $\\sigma$) imply that it is very unlikely to get smaller than $z*$ (which has value around 5, wheres the mean of the distribution of $z$ for these scenario is around 8)."
   ]
  },
  {
   "cell_type": "code",
   "execution_count": 302,
   "metadata": {},
   "outputs": [
    {
     "name": "stdout",
     "output_type": "stream",
     "text": [
      "The probability of r being greater than 1 is  1.0\n"
     ]
    }
   ],
   "source": [
    "#c\n",
    "#z is increasing in r\n",
    "k = 7500000\n",
    "r = 1\n",
    "z_star = np.log(r/(((k)**(alpha_MLE_1-1))*(alpha_MLE_1)))\n",
    "\n",
    "prob = 1-sci.stats.norm.cdf(x=z_star,loc=(rho_MLE_1*10+(1-rho_MLE_1)*mu_MLE_1),scale=sigma_MLE_1**2)\n",
    "print('The probability of r being greater than 1 is ',prob)"
   ]
  }
 ],
 "metadata": {
  "kernelspec": {
   "display_name": "Python 3",
   "language": "python",
   "name": "python3"
  },
  "language_info": {
   "codemirror_mode": {
    "name": "ipython",
    "version": 3
   },
   "file_extension": ".py",
   "mimetype": "text/x-python",
   "name": "python",
   "nbconvert_exporter": "python",
   "pygments_lexer": "ipython3",
   "version": "3.7.1"
  }
 },
 "nbformat": 4,
 "nbformat_minor": 2
}
